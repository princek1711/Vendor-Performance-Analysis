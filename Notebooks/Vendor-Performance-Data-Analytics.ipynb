{
 "cells": [
  {
   "cell_type": "code",
   "execution_count": 1,
   "id": "818b0d54-2db9-424a-abf3-77a9fc928dc8",
   "metadata": {},
   "outputs": [],
   "source": [
    "import pandas as pd\n",
    "import os\n",
    "from sqlalchemy import create_engine\n",
    "import logging\n",
    "import time\n",
    "\n",
    "logging.basicConfig(\n",
    "    filename=\"logs/ingestion_db.log\",\n",
    "    level=logging.DEBUG,\n",
    "    format=\"%(asctime)s - %(levelname)s - %(message)s\",\n",
    "    filemode=\"a\"\n",
    ")\n",
    "\n",
    "engine = create_engine(\"sqlite:///inventory.db\")\n",
    "\n",
    "def ingest_db(df,table_name,engine):\n",
    "    '''this function will ingest the dataframe into database table'''\n",
    "    df.to_sql(table_name, con=engine, if_exists = 'replace', index=False)\n",
    "\n",
    "def load_raw_data():\n",
    "    '''this function will load the CSVs as dataframe and ingest into db'''\n",
    "    start = time.time()\n",
    "    data_path = 'C:\\\\Users\\\\HP\\\\Desktop\\\\Ideas and Notes\\\\DATA_Analysis\\\\Full_lenght_Project\\\\Vendor-Performance-Data-Analytics\\\\data'\n",
    "    for file in os.listdir(data_path):\n",
    "        if file.endswith('.csv'):\n",
    "            file_path = os.path.join(data_path,file)\n",
    "            df = pd.read_csv(file_path)\n",
    "            logging.info(f\"Ingesting {file}: {df.shape} in db\")\n",
    "            ingest_db(df, file[:-4], engine)\n",
    "    end = time.time()\n",
    "    total_time = (end - start)/60\n",
    "    logging.info(\"--------------Ingestion Complete-----------\")\n",
    "    logging.info(f\"\\nTotal time taken:{total_time} minutes\")\n",
    "\n",
    "if __name__ == '__main__':\n",
    "    load_raw_data()"
   ]
  },
  {
   "cell_type": "code",
   "execution_count": 2,
   "id": "b2173ce0-6ea3-464e-8917-0febf24dce9c",
   "metadata": {},
   "outputs": [
    {
     "data": {
      "text/plain": [
       "'C:\\\\Users\\\\HP\\\\Desktop\\\\Ideas and Notes\\\\DATA_Analysis\\\\Full_lenght_Project\\\\Vendor-Performance-Data-Analytics\\\\Script'"
      ]
     },
     "execution_count": 2,
     "metadata": {},
     "output_type": "execute_result"
    }
   ],
   "source": [
    "os.getcwd()"
   ]
  },
  {
   "cell_type": "code",
   "execution_count": 3,
   "id": "392c10e1-630a-4563-9990-0452a560a5ad",
   "metadata": {},
   "outputs": [
    {
     "name": "stdout",
     "output_type": "stream",
     "text": [
      ".ipynb_checkpoints\n",
      "begin_inventory.csv\n",
      "end_inventory.csv\n",
      "purchases.csv\n",
      "purchase_prices.csv\n",
      "sales.csv\n",
      "vendor_invoice.csv\n"
     ]
    }
   ],
   "source": [
    "data_path = 'C:\\\\Users\\\\HP\\\\Desktop\\\\Ideas and Notes\\\\DATA_Analysis\\\\Full_lenght_Project\\\\Vendor-Performance-Data-Analytics\\\\data'\n",
    "for file in os.listdir(data_path):\n",
    "    print(file)"
   ]
  }
 ],
 "metadata": {
  "kernelspec": {
   "display_name": "Python 3 (ipykernel)",
   "language": "python",
   "name": "python3"
  },
  "language_info": {
   "codemirror_mode": {
    "name": "ipython",
    "version": 3
   },
   "file_extension": ".py",
   "mimetype": "text/x-python",
   "name": "python",
   "nbconvert_exporter": "python",
   "pygments_lexer": "ipython3",
   "version": "3.12.5"
  }
 },
 "nbformat": 4,
 "nbformat_minor": 5
}
